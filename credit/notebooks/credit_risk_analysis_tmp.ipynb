{
 "cells": [
  {
   "cell_type": "markdown",
   "metadata": {},
   "source": [
    "# Credit Risk Analysis\n"
   ]
  },
  {
   "cell_type": "code",
   "execution_count": null,
   "metadata": {},
   "outputs": [],
   "source": [
    "import gzip\n",
    "import shutil\n",
    "\n",
    "with gzip.open('file.gz', 'rb') as entrada:\n",
    "    with open('file', 'wb') as saida:\n",
    "        shutil.copyfileobj(entrada, saida)"
   ]
  }
 ],
 "metadata": {
  "kernelspec": {
   "display_name": "neurolake",
   "language": "python",
   "name": "python3"
  },
  "language_info": {
   "name": "python",
   "version": "3.12.4"
  }
 },
 "nbformat": 4,
 "nbformat_minor": 2
}
